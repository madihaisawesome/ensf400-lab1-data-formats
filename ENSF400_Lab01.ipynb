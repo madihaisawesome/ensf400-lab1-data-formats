{
  "cells": [
    {
      "cell_type": "markdown",
      "metadata": {
        "id": "GRfAlgfRobD0"
      },
      "source": [
        "# ENSF 400 - Winter 2025 - Lab 01 - Data Formats"
      ]
    },
    {
      "cell_type": "markdown",
      "metadata": {
        "id": "BaQITzJmobD2"
      },
      "source": [
        "# JSON\n",
        "In this tutorial, you will learn to parse, read and write JSON in Python with the help of examples. Also, you will learn to convert JSON to dict and pretty print it.\n",
        "\n",
        "JSON (JavaScript Object Notation) is a popular data format used for representing structured data. It's common to transmit and receive data between a server and web application in JSON format.\n",
        "\n",
        "In Python, JSON exists as a string. For example:\n",
        "\n"
      ]
    },
    {
      "cell_type": "code",
      "execution_count": null,
      "metadata": {
        "id": "7iAUKOzZobD2"
      },
      "outputs": [],
      "source": [
        "p = '{\"name\": \"Bob\", \"languages\": [\"Python\", \"Java\"]}'\n",
        "print(p)\n",
        "type(p)"
      ]
    },
    {
      "cell_type": "markdown",
      "metadata": {
        "id": "3ugkleYBobD3"
      },
      "source": [
        "It's also common to store a JSON object in a file.\n",
        "\n",
        "## Import JSON Module\n",
        "To work with JSON (string, or file containing JSON object), you can use Python's json module. You need to import the module before you can use it.\n",
        "\n",
        "## Parse JSON in Python\n",
        "The json module makes it easy to parse JSON strings and files containing JSON object.\n",
        "\n",
        "### Example 1: Python JSON to dict\n",
        "You can parse a JSON string using json.loads() method. The method returns a dictionary.\n"
      ]
    },
    {
      "cell_type": "code",
      "execution_count": null,
      "metadata": {
        "id": "6mXhjTbXobD3"
      },
      "outputs": [],
      "source": [
        "import json\n",
        "\n",
        "person = '{\"name\": \"Bob\", \"languages\": [\"English\", \"Fench\"]}'\n",
        "person_dict = json.loads(person)"
      ]
    },
    {
      "cell_type": "code",
      "execution_count": null,
      "metadata": {
        "id": "Y7_OuQouobD4"
      },
      "outputs": [],
      "source": [
        "# Output: {'name': 'Bob', 'languages': ['English', 'Fench']}\n",
        "print(person_dict)\n",
        "type(person_dict)\n",
        "#person_dict['name']"
      ]
    },
    {
      "cell_type": "code",
      "execution_count": null,
      "metadata": {
        "id": "hY8YXO8PobD4"
      },
      "outputs": [],
      "source": [
        "# Output: ['English', 'French']\n",
        "print(person_dict['name'])\n",
        "type(person_dict['age'])"
      ]
    },
    {
      "cell_type": "markdown",
      "metadata": {
        "id": "gWxpLCR7obD4"
      },
      "source": [
        "Here, person is a JSON string, and person_dict is a dictionary.\n",
        "\n",
        "### Example 2: Python read JSON file\n",
        "You can use `json.load()` method to read a file containing JSON object.\n",
        "\n",
        "Suppose, you have a file named `person.json` which contains a JSON object."
      ]
    },
    {
      "cell_type": "code",
      "execution_count": null,
      "metadata": {
        "id": "6ebcOPt4obD4"
      },
      "outputs": [],
      "source": [
        "%%writefile person.json\n",
        "{\"name\": \"Bob\", \"languages\": [\"English\", \"Fench\"]}"
      ]
    },
    {
      "cell_type": "markdown",
      "metadata": {
        "id": "bNYDd5eaobD5"
      },
      "source": [
        "Here's how you can parse this file:"
      ]
    },
    {
      "cell_type": "code",
      "execution_count": null,
      "metadata": {
        "id": "_pzR0cfpobD5"
      },
      "outputs": [],
      "source": [
        "import json\n",
        "\n",
        "with open('person.json') as f:\n",
        "  data = json.load(f)\n",
        "\n",
        "# Output: {'name': 'Bob', 'languages': ['English', 'Fench']}\n",
        "print(data)\n",
        "type(data)"
      ]
    },
    {
      "cell_type": "markdown",
      "metadata": {
        "id": "kN0g7BG-obD5"
      },
      "source": [
        "Here, we have used the `open()` function to read the json file. Then, the file is parsed using `json.load()` method which gives us a dictionary named data.\n",
        "\n",
        "If you do not know how to read and write files in Python, we recommend you to check Python File I/O.\n",
        "\n",
        "## Python Convert to JSON string\n",
        "You can convert a dictionary to JSON string using `json.dumps()` method.\n",
        "\n",
        "### Example 3: Convert dict to JSON"
      ]
    },
    {
      "cell_type": "code",
      "execution_count": null,
      "metadata": {
        "id": "xLI8d_nAobD5"
      },
      "outputs": [],
      "source": [
        "import json\n",
        "\n",
        "person_dict = {\n",
        "    'name': 'Bob',\n",
        "    'age': 12,\n",
        "    'children': None\n",
        "}\n",
        "person_json = json.dumps(person_dict)\n",
        "\n",
        "# Output: {\"name\": \"Bob\", \"age\": 12, \"children\": null}\n",
        "print(person_json)\n",
        "type(person_json)"
      ]
    },
    {
      "cell_type": "markdown",
      "metadata": {
        "id": "gWt2AYc7obD5"
      },
      "source": [
        "Here's a table showing Python objects and their equivalent conversion to JSON.\n",
        "\n",
        "| Python          | JSON Equivalent |\n",
        "|-----------------|-----------------|\n",
        "| dict            | object          |\n",
        "| list, tuple     | array           |\n",
        "| str             | string          |\n",
        "| int, float, int | number          |\n",
        "| True            | true            |\n",
        "| False           | false           |\n",
        "| None            | null            |\n",
        "\n",
        "## Writing JSON to a file\n",
        "To write JSON to a file in Python, we can use `json.dump()` method.\n",
        "\n",
        "### Example 4: Writing JSON to a file\n"
      ]
    },
    {
      "cell_type": "code",
      "execution_count": null,
      "metadata": {
        "id": "Kkhb7k4MobD5"
      },
      "outputs": [],
      "source": [
        "import json\n",
        "\n",
        "person_dict = {\n",
        "    \"name\": \"Bob\",\n",
        "    \"languages\": [\"English\", \"Fench\"],\n",
        "    \"married\": True,\n",
        "    \"age\": 32\n",
        "}\n",
        "\n",
        "with open('person.txt', 'w') as json_file:\n",
        "  json.dump(person_dict, json_file)\n"
      ]
    },
    {
      "cell_type": "markdown",
      "metadata": {
        "id": "z8Wv_UKVobD6"
      },
      "source": [
        "In the above program, we have opened a file named person.txt in writing mode using 'w'. If the file doesn't already exist, it will be created. Then, `json.dump()` transforms person_dict to a JSON string which will be saved in the person.txt file.\n",
        "\n",
        "When you run the program, the person.txt file will be created. The file has the text output inside it.\n",
        "\n",
        "## Python pretty print JSON\n",
        "To analyze and debug JSON data, we may need to print it in a more readable format. This can be done by passing additional parameters indent and sort_keys to `json.dumps()` and `json.dump()` method.\n",
        "\n",
        "### Example 5: Python pretty print JSON\n",
        "\n"
      ]
    },
    {
      "cell_type": "code",
      "execution_count": null,
      "metadata": {
        "id": "2HiP1hbPobD6"
      },
      "outputs": [],
      "source": [
        "import json\n",
        "\n",
        "person_string = '{\"name\": \"Bob\", \"languages\": \"English\", \"numbers\": [2, 1.6, null]}'\n",
        "\n",
        "# Getting dictionary\n",
        "person_dict = json.loads(person_string)\n",
        "\n",
        "# Pretty Printing JSON string back\n",
        "print(json.dumps(person_dict, indent = 4, sort_keys=False))\n"
      ]
    },
    {
      "cell_type": "markdown",
      "metadata": {
        "id": "j76U7HsEobD6"
      },
      "source": [
        "In the above program, we have used 4 spaces for indentation. And, the keys are sorted in ascending order. By the way, the default value of `indent = None`. And, the default value of `sort_keys = False`."
      ]
    },
    {
      "cell_type": "markdown",
      "metadata": {
        "id": "ZxL2M2B-obD6"
      },
      "source": [
        "# YAML\n",
        "\n",
        "_YAML Ain’t Markup Language_ ([YAML](https://yaml.org/)) is a serialization language that has steadily increased in popularity over the last few years.\n",
        "\n",
        "It’s often used as **a format for configuration files**, but its object serialization abilities make it a viable replacement for languages like JSON. YAML has broad language support and maps easily into native data structures. It’s also **easy for humans to read**, which is why it’s a good choice for configuration.\n",
        "\n",
        "The YAML acronym was shorthand for _Yet Another Markup Language_. But the maintainers renamed it to _YAML Ain’t Markup Language_ to place more emphasis on its data-oriented features.\n",
        "\n",
        "## A Simple YAML Example\n",
        "\n",
        "Let’s take a look at a YAML file for a brief overview.\n"
      ]
    },
    {
      "cell_type": "code",
      "execution_count": null,
      "metadata": {
        "id": "YDPH1pHKobD7"
      },
      "outputs": [],
      "source": [
        "%%writefile simple.yaml\n",
        "---\n",
        " doe: \"a deer, a female deer\"\n",
        " ray: \"a drop of golden sun\"\n",
        " pi: 3.14159\n",
        " xmas: true\n",
        " french-hens: 3\n",
        " calling-birds:\n",
        "   - huey\n",
        "   - dewey\n",
        "   - louie\n",
        "   - fred\n",
        " xmas-fifth-day:\n",
        "   calling-birds: four\n",
        "   french-hens: 3\n",
        "   golden-rings: 5\n",
        "   partridges:\n",
        "     count: 1\n",
        "     location: \"a pear tree\"\n",
        "   turtle-doves: two"
      ]
    },
    {
      "cell_type": "markdown",
      "metadata": {
        "id": "4OWjima2obD7"
      },
      "source": [
        "The file starts with three dashes. These dashes indicate the start of a new YAML document. YAML supports multiple documents, and compliant parsers will recognize each set of dashes as the beginning of a new one.\n",
        "\n",
        "Next, we see the construct that makes up most of a typical YAML document: a key-value pair. `Doe` is a key that points to a string value: `a deer, a female deer`.\n",
        "\n",
        "YAML supports more than just string values. The file starts with six key-value pairs. They have four different data types. `Doe` and `ray` are strings. `Pi` is a floating-point number. `Xmas` is a boolean. `French-hens` is an integer. You can enclose strings in single or double-quotes or no quotes at all. YAML recognizes unquoted numerals as integers or floating point.\n",
        "\n",
        "The seventh item is an array. `Calling-birds` has four elements, each denoted by an opening dash.\n",
        "\n",
        "I indented the elements in `calling-birds` with two spaces. **Indentation is how YAML denotes nesting**. The number of spaces can vary from file to file, but <u>tabs are not allowed</u>. We’ll look at how indentation works below.\n",
        "\n",
        "Finally, we see `xmas-fifth-day`, which has five more elements inside it, each of them indented. We can view `xmas-fifth-day` as a dictionary that contains two string, two integers, and another dictionary. YAML supports nesting of key-values, and mixing types.\n",
        "\n",
        "Before we take a deeper dive, let’s look at how this document looks in JSON. You may use an online [JSON to YAML converter](https://www.json2yaml.com/). The result is pasted below:\n",
        "\n",
        "```json\n",
        "{\n",
        "  \"doe\": \"a deer, a female deer\",\n",
        "  \"ray\": \"a drop of golden sun\",\n",
        "  \"pi\": 3.14159,\n",
        "  \"xmas\": true,\n",
        "  \"french-hens\": 3,\n",
        "  \"calling-birds\": [\n",
        "     \"huey\",\n",
        "     \"dewey\",\n",
        "     \"louie\",\n",
        "     \"fred\"\n",
        "  ],\n",
        "  \"xmas-fifth-day\": {\n",
        "  \"calling-birds\": \"four\",\n",
        "  \"french-hens\": 3,\n",
        "  \"golden-rings\": 5,\n",
        "  \"partridges\": {\n",
        "    \"count\": 1,\n",
        "    \"location\": \"a pear tree\"\n",
        "  },\n",
        "  \"turtle-doves\": \"two\"\n",
        "  }\n",
        "}\n",
        "```"
      ]
    },
    {
      "cell_type": "markdown",
      "metadata": {
        "id": "zbRaZPgwobD7"
      },
      "source": [
        "JSON and YAML have similar capabilities, and you can convert most documents between the formats.\n",
        "\n",
        "## Outline Indentation and Whitespace\n",
        "Whitespace is part of YAML’s formatting. Unless otherwise indicated, newlines indicate the end of a field.\n",
        "\n",
        "You structure a YAML document with indentation. The indentation level can be one or more spaces. The specification forbids tabs because tools treat them differently.\n",
        "\n",
        "Consider this document. The items inside `stuff` are indented with two spaces."
      ]
    },
    {
      "cell_type": "code",
      "execution_count": null,
      "metadata": {
        "id": "y-D9Rq0tobD7"
      },
      "outputs": [],
      "source": [
        "%%writefile foo.yaml\n",
        "foo: bar\n",
        "pleh: help\n",
        "stuff:\n",
        "  foo: bar\n",
        "  bar: foo"
      ]
    },
    {
      "cell_type": "markdown",
      "metadata": {
        "id": "lgtB_DXtobD7"
      },
      "source": [
        "The `PyYAML` package will map a YAML file stream into a dictionary. We’ll iterate through the outermost set of keys and values and print the key and the string representation of each value."
      ]
    },
    {
      "cell_type": "code",
      "execution_count": null,
      "metadata": {
        "id": "p10YGGxkobD7"
      },
      "outputs": [],
      "source": [
        "import yaml\n",
        "import json\n",
        "\n",
        "def print_yaml(filename):\n",
        "    f = open(filename, 'r')\n",
        "    dictionary = yaml.full_load(f)\n",
        "    print(json.dumps(dictionary, indent = 4, sort_keys=False))\n",
        "\n",
        "\n",
        "print_yaml(\"foo.yaml\")"
      ]
    },
    {
      "cell_type": "markdown",
      "metadata": {
        "id": "0CwFALnrobD8"
      },
      "source": [
        "YAML’s simple nesting gives us the power to build sophisticated objects. But that’s only the beginning."
      ]
    },
    {
      "cell_type": "markdown",
      "metadata": {
        "id": "ahXBG9IcobD8"
      },
      "source": [
        "## Comments\n",
        "Comments begin with a pound sign. They can appear after a document value or take up an entire line.\n",
        "```yaml\n",
        "---\n",
        "# This is a full line comment\n",
        "foo: bar # this is a comment, too\n",
        "```"
      ]
    },
    {
      "cell_type": "markdown",
      "metadata": {
        "id": "muwt5yQzobD8"
      },
      "source": [
        "## YAML Datatypes\n",
        "\n",
        "Values in YAML’s key-value pairs are scalar. They act like the scalar types in languages like Perl, Javascript, and Python. It’s usually good enough to enclose strings in quotes, leave numbers unquoted, and let the parser figure it out.\n",
        "\n",
        "But that’s only the tip of the iceberg. YAML is capable of a great deal more.\n",
        "\n",
        "### Key-Value Pairs and Dictionaries\n",
        "The key-value is YAML’s basic building block. Every item in a YAML document is a member of at least one dictionary. The key is always a string. The value is a scalar so that it can be any datatype.\n",
        "\n",
        "So, as we’ve already seen, the value can be a string, a number, or another dictionary.\n",
        "\n",
        "### Numeric types\n",
        "YAML recognizes numeric types. We saw floating point and integers above. YAML supports several other numeric types.\n",
        "\n",
        "An integer can be decimal, hexidecimal, or octal."
      ]
    },
    {
      "cell_type": "code",
      "execution_count": null,
      "metadata": {
        "id": "NiDDfI_FobD8"
      },
      "outputs": [],
      "source": [
        "%%writefile numeric.yaml\n",
        "---\n",
        " foo: 12345\n",
        " bar: 0x12d4\n",
        " plop: 023332"
      ]
    },
    {
      "cell_type": "code",
      "execution_count": null,
      "metadata": {
        "id": "7OAXZ0CFobD8"
      },
      "outputs": [],
      "source": [
        "print_yaml(\"numeric.yaml\")"
      ]
    },
    {
      "cell_type": "markdown",
      "metadata": {
        "id": "2TJkSeMRobD8"
      },
      "source": [
        "As you expect, `Ox` indicates a value is hex, and a _leading zero_ denotes an octal value.\n",
        "\n",
        "YAML supports both fixed and exponential floating point numbers."
      ]
    },
    {
      "cell_type": "code",
      "execution_count": null,
      "metadata": {
        "id": "mjBL6JI9obD8"
      },
      "outputs": [],
      "source": [
        "%%writefile float.yaml\n",
        "---\n",
        " foo: 1230.15\n",
        " bar:  12.3015e+05"
      ]
    },
    {
      "cell_type": "code",
      "execution_count": null,
      "metadata": {
        "id": "W0OOdWAhobD8"
      },
      "outputs": [],
      "source": [
        "print_yaml(\"float.yaml\")"
      ]
    },
    {
      "cell_type": "markdown",
      "metadata": {
        "id": "aCXZccW6obD9"
      },
      "source": [
        "Finally, we can represent not-a-number (NAN) or infinity."
      ]
    },
    {
      "cell_type": "code",
      "execution_count": null,
      "metadata": {
        "id": "uecFXigAobD9"
      },
      "outputs": [],
      "source": [
        "%%writefile nan.yaml\n",
        "---\n",
        "foo: .inf\n",
        "bar: -.Inf\n",
        "plop: .NAN"
      ]
    },
    {
      "cell_type": "code",
      "execution_count": null,
      "metadata": {
        "id": "eeinpTxNobD9"
      },
      "outputs": [],
      "source": [
        "print_yaml(\"nan.yaml\")"
      ]
    },
    {
      "cell_type": "markdown",
      "metadata": {
        "id": "LFEg2xjSobD9"
      },
      "source": [
        "### Strings\n",
        "YAML strings are Unicode. In most situations, you don’t have to specify them in quotes."
      ]
    },
    {
      "cell_type": "code",
      "execution_count": null,
      "metadata": {
        "id": "Vny14lKiobD9"
      },
      "outputs": [],
      "source": [
        "%%writefile strings.yaml\n",
        "---\n",
        "foo: \"this is not a normal string\\n\"\n",
        "bar: this is not a normal string\\n"
      ]
    },
    {
      "cell_type": "code",
      "execution_count": null,
      "metadata": {
        "id": "t9_KYbchobD9"
      },
      "outputs": [],
      "source": [
        "print_yaml(\"strings.yaml\")"
      ]
    },
    {
      "cell_type": "markdown",
      "metadata": {
        "id": "p5yZk5CsobD-"
      },
      "source": [
        "YAML processes the first value as ending with a carriage return and linefeed. Since the second value is not quoted, YAML treats the `\\n` as two characters.\n",
        "\n",
        "YAML will not escape strings with single quotes, but the single quotes do avoid having string contents interpreted as document formatting.\n",
        "\n",
        "String values can span more than one line. With the fold (greater than) character, you can specify a string in a block.\n"
      ]
    },
    {
      "cell_type": "code",
      "execution_count": null,
      "metadata": {
        "id": "Dxmg23oyobD-"
      },
      "outputs": [],
      "source": [
        "%%writefile newline.yaml\n",
        "bar: >\n",
        "  this is not a normal string it\n",
        "  spans more than\n",
        "  one line\n",
        "  see?"
      ]
    },
    {
      "cell_type": "code",
      "execution_count": null,
      "metadata": {
        "id": "TQuhH_wCobD_"
      },
      "outputs": [],
      "source": [
        "import yaml\n",
        "f = open('newline.yaml', 'r')\n",
        "dictionary = yaml.full_load(f)\n",
        "print(dictionary['bar'])"
      ]
    },
    {
      "cell_type": "markdown",
      "metadata": {
        "id": "r3OY6N9MobD_"
      },
      "source": [
        "The block (pipe) character has a similar function, but YAML interprets the field exactly as is."
      ]
    },
    {
      "cell_type": "code",
      "execution_count": null,
      "metadata": {
        "id": "E5bAlQuAobD_"
      },
      "outputs": [],
      "source": [
        "%%writefile newline2.yaml\n",
        "bar: |\n",
        "  this is not a normal string it\n",
        "  spans more than\n",
        "  one line\n",
        "  see?"
      ]
    },
    {
      "cell_type": "code",
      "execution_count": null,
      "metadata": {
        "id": "92XDTj1iobD_"
      },
      "outputs": [],
      "source": [
        "import yaml\n",
        "f = open('newline2.yaml', 'r')\n",
        "dictionary = yaml.full_load(f)\n",
        "print(dictionary['bar'])"
      ]
    },
    {
      "cell_type": "markdown",
      "metadata": {
        "id": "l_KTk5QRobD_"
      },
      "source": [
        "### Nulls\n",
        "You enter nulls with a tilde or the unquoted null string literal."
      ]
    },
    {
      "cell_type": "code",
      "execution_count": null,
      "metadata": {
        "id": "ADJ93S5VobD_"
      },
      "outputs": [],
      "source": [
        "%%writefile null.yaml\n",
        "---\n",
        "foo: ~\n",
        "bar: null"
      ]
    },
    {
      "cell_type": "code",
      "execution_count": null,
      "metadata": {
        "id": "SLhPAY8qobD_"
      },
      "outputs": [],
      "source": [
        "print_yaml(\"null.yaml\")"
      ]
    },
    {
      "cell_type": "markdown",
      "metadata": {
        "id": "EKdhURH9obD_"
      },
      "source": [
        "### Booleans\n",
        "YAML indicates boolean values with the keywords True, On and Yes for true. False is indicated with False, Off, or No."
      ]
    },
    {
      "cell_type": "code",
      "execution_count": null,
      "metadata": {
        "id": "5U-9vrKcobD_"
      },
      "outputs": [],
      "source": [
        "%%writefile bool.yaml\n",
        "---\n",
        "foo: True\n",
        "bar: False\n",
        "foo2: true\n",
        "bar2: false\n",
        "light: On\n",
        "TV: Off\n",
        "aaa: yes\n",
        "bbb: no"
      ]
    },
    {
      "cell_type": "code",
      "execution_count": null,
      "metadata": {
        "id": "9ljD6jtGobEA"
      },
      "outputs": [],
      "source": [
        "print_yaml(\"bool.yaml\")"
      ]
    },
    {
      "cell_type": "markdown",
      "metadata": {
        "id": "0vVAe3VDobEA"
      },
      "source": [
        "### Arrays\n",
        "You can specify arrays or lists on a single line.\n",
        "\n"
      ]
    },
    {
      "cell_type": "code",
      "execution_count": null,
      "metadata": {
        "id": "lDfTSdLZobEA"
      },
      "outputs": [],
      "source": [
        "%%writefile array1.yaml\n",
        "---\n",
        "items: [ 1, 2, 3, 4, 5 ]\n",
        "names: [ \"one\", \"two\", \"three\", \"four\" ]"
      ]
    },
    {
      "cell_type": "code",
      "execution_count": null,
      "metadata": {
        "id": "tdaqtw1jobEA"
      },
      "outputs": [],
      "source": [
        "print_yaml(\"array1.yaml\")"
      ]
    },
    {
      "cell_type": "markdown",
      "metadata": {
        "id": "Ip7jqSqvobEA"
      },
      "source": [
        "Or, you can put them on multiple lines."
      ]
    },
    {
      "cell_type": "code",
      "execution_count": null,
      "metadata": {
        "id": "WzOuwvA2obEA"
      },
      "outputs": [],
      "source": [
        "%%writefile array2.yaml\n",
        "---\n",
        "items:\n",
        "  - 5\n",
        "  - 6\n",
        "  - 7\n",
        "  - 8\n",
        "  - 9\n",
        "names:\n",
        "  - \"five\"\n",
        "  - \"six\"\n",
        "  - \"seven\"\n",
        "  - \"eight\""
      ]
    },
    {
      "cell_type": "code",
      "execution_count": null,
      "metadata": {
        "id": "DkkZ3kHEobEA"
      },
      "outputs": [],
      "source": [
        "print_yaml(\"array2.yaml\")"
      ]
    },
    {
      "cell_type": "markdown",
      "metadata": {
        "id": "iR0dZdp_obEA"
      },
      "source": [
        "The multiple line format is useful for lists that contain complex objects instead of scalars."
      ]
    },
    {
      "cell_type": "code",
      "execution_count": null,
      "metadata": {
        "id": "k2Pj018NobEA"
      },
      "outputs": [],
      "source": [
        "%%writefile array3.yaml\n",
        "---\n",
        "items:\n",
        "  - things:\n",
        "      thing1: huey\n",
        "      things2: dewey\n",
        "      thing3: louie\n",
        "  - other things:\n",
        "      key: value"
      ]
    },
    {
      "cell_type": "code",
      "execution_count": null,
      "metadata": {
        "id": "m7KFExm1obEB"
      },
      "outputs": [],
      "source": [
        "print_yaml(\"array3.yaml\")"
      ]
    },
    {
      "cell_type": "markdown",
      "metadata": {
        "id": "695BQZdeobEB"
      },
      "source": [
        "An array can contain any valid YAML value. The values in a list do not have to be the same type.\n",
        "\n",
        "### Dictionaries\n",
        "We covered dictionaries above, but there’s more to them.\n",
        "\n",
        "Like arrays, you can put dictionaries inline. We saw this format above. It’s how python prints dictionaries."
      ]
    },
    {
      "cell_type": "code",
      "execution_count": null,
      "metadata": {
        "id": "sYFW5aVOobEB"
      },
      "outputs": [],
      "source": [
        "%%writefile dict1.yaml\n",
        "---\n",
        "foo: { thing1: huey, thing2: louie, thing3: dewey }"
      ]
    },
    {
      "cell_type": "code",
      "execution_count": null,
      "metadata": {
        "id": "Rfhm9VccobEB"
      },
      "outputs": [],
      "source": [
        "print_yaml(\"dict1.yaml\")"
      ]
    },
    {
      "cell_type": "code",
      "execution_count": null,
      "metadata": {
        "id": "VtYi1lr4obEB"
      },
      "outputs": [],
      "source": [
        "%%writefile dict2.yaml\n",
        "---\n",
        "foo: bar\n",
        "bar: foo"
      ]
    },
    {
      "cell_type": "code",
      "execution_count": null,
      "metadata": {
        "id": "M8Hi5pjbobEB"
      },
      "outputs": [],
      "source": [
        "print_yaml(\"dict2.yaml\")"
      ]
    },
    {
      "cell_type": "code",
      "execution_count": null,
      "metadata": {
        "id": "4qMecXSbobEB"
      },
      "outputs": [],
      "source": [
        "%%writefile dict3.yaml\n",
        "---\n",
        "foo:\n",
        "  bar:\n",
        "    - bar\n",
        "    - rab\n",
        "    - plop"
      ]
    },
    {
      "cell_type": "code",
      "execution_count": null,
      "metadata": {
        "id": "MymcfAG4obEB"
      },
      "outputs": [],
      "source": [
        "print_yaml(\"dict3.yaml\")"
      ]
    },
    {
      "cell_type": "markdown",
      "metadata": {
        "id": "43UF4mFmobEB"
      },
      "source": [
        "## Tasks\n",
        "\n",
        "### Task 1\n",
        "\n",
        "Using data file 'interface-data.json' provided with the lab, create output that resembles the following by parsing the included JSON file:\n",
        "\n",
        "**Note: Use `dn`, `descr`, `speed` and `mtu` for parsing.**\n",
        "\n",
        "```\n",
        "Interface Status\n",
        "================================================================================\n",
        "DN                                                 Description    Speed    MTU  \n",
        "-------------------------------------------------- ------------  ------  ------\n",
        "topology/pod-1/node-201/sys/phys-[eth1/33]                       inherit   9150\n",
        "topology/pod-1/node-201/sys/phys-[eth1/34]                       inherit   9150\n",
        "topology/pod-1/node-201/sys/phys-[eth1/35]                       inherit   9150\n",
        "```\n",
        "\n",
        "\n"
      ]
    },
    {
      "cell_type": "code",
      "execution_count": 1,
      "metadata": {
        "id": "ux4EQuS4obEC",
        "outputId": "8295d7ec-bc67-442c-b419-6460f7c2a2ee",
        "colab": {
          "base_uri": "https://localhost:8080/",
          "height": 219
        }
      },
      "outputs": [
        {
          "output_type": "error",
          "ename": "FileNotFoundError",
          "evalue": "[Errno 2] No such file or directory: 'interface-data.json'",
          "traceback": [
            "\u001b[0;31m---------------------------------------------------------------------------\u001b[0m",
            "\u001b[0;31mFileNotFoundError\u001b[0m                         Traceback (most recent call last)",
            "\u001b[0;32m<ipython-input-1-8997687d0927>\u001b[0m in \u001b[0;36m<cell line: 0>\u001b[0;34m()\u001b[0m\n\u001b[1;32m      2\u001b[0m \u001b[0;34m\u001b[0m\u001b[0m\n\u001b[1;32m      3\u001b[0m \u001b[0;31m# Load the JSON data\u001b[0m\u001b[0;34m\u001b[0m\u001b[0;34m\u001b[0m\u001b[0m\n\u001b[0;32m----> 4\u001b[0;31m \u001b[0;32mwith\u001b[0m \u001b[0mopen\u001b[0m\u001b[0;34m(\u001b[0m\u001b[0;34m'interface-data.json'\u001b[0m\u001b[0;34m)\u001b[0m \u001b[0;32mas\u001b[0m \u001b[0mfile\u001b[0m\u001b[0;34m:\u001b[0m\u001b[0;34m\u001b[0m\u001b[0;34m\u001b[0m\u001b[0m\n\u001b[0m\u001b[1;32m      5\u001b[0m     \u001b[0mjson_data\u001b[0m \u001b[0;34m=\u001b[0m \u001b[0mjson\u001b[0m\u001b[0;34m.\u001b[0m\u001b[0mload\u001b[0m\u001b[0;34m(\u001b[0m\u001b[0mfile\u001b[0m\u001b[0;34m)\u001b[0m\u001b[0;34m\u001b[0m\u001b[0;34m\u001b[0m\u001b[0m\n\u001b[1;32m      6\u001b[0m \u001b[0;34m\u001b[0m\u001b[0m\n",
            "\u001b[0;31mFileNotFoundError\u001b[0m: [Errno 2] No such file or directory: 'interface-data.json'"
          ]
        }
      ],
      "source": [
        "import json\n",
        "\n",
        "# Load the JSON data\n",
        "with open('interface-data.json') as file:\n",
        "    json_data = json.load(file)\n",
        "\n",
        "# Print header\n",
        "print(\"Interface Status\")\n",
        "print(\"=\" * 80)\n",
        "print(f\"{'DN':<50} {'Description':<12} {'Speed':<7} {'MTU':<6}\")\n",
        "print(\"-\" * 80)\n",
        "\n",
        "# Iterate and extract relevant data\n",
        "for interface in json_data[\"imdata\"]:\n",
        "    attributes = interface[\"l1PhysIf\"][\"attributes\"]\n",
        "    dn = attributes.get(\"dn\", \"\")\n",
        "    descr = attributes.get(\"descr\", \"\")\n",
        "    speed = attributes.get(\"speed\", \"inherit\")\n",
        "    mtu = attributes.get(\"mtu\", \"\")\n",
        "    print(f\"{dn:<50} {descr:<12} {speed:<7} {mtu:<6}\")\n",
        "\n",
        "\n"
      ]
    },
    {
      "cell_type": "markdown",
      "metadata": {
        "id": "O8TzeWHeobEC"
      },
      "source": [
        "### Task 2\n",
        "\n",
        "Using the same JSON input as `Task 1`, find all interfaces with `dn` attributes starting with `topology/pod-1/node-103`. Store the results in another file named `interface-103.json`, **with the same format as the original input JSON file** in JSON format, with one pretty setting: `indent = 4`."
      ]
    },
    {
      "cell_type": "code",
      "execution_count": 2,
      "metadata": {
        "id": "AUL0UtsxobEC",
        "outputId": "59b74d39-13f4-4d2b-e1f4-99e883ec33cb",
        "colab": {
          "base_uri": "https://localhost:8080/",
          "height": 219
        }
      },
      "outputs": [
        {
          "output_type": "error",
          "ename": "FileNotFoundError",
          "evalue": "[Errno 2] No such file or directory: 'interface-data.json'",
          "traceback": [
            "\u001b[0;31m---------------------------------------------------------------------------\u001b[0m",
            "\u001b[0;31mFileNotFoundError\u001b[0m                         Traceback (most recent call last)",
            "\u001b[0;32m<ipython-input-2-d36f2a91b325>\u001b[0m in \u001b[0;36m<cell line: 0>\u001b[0;34m()\u001b[0m\n\u001b[1;32m      2\u001b[0m \u001b[0;34m\u001b[0m\u001b[0m\n\u001b[1;32m      3\u001b[0m \u001b[0;31m# Load the JSON data\u001b[0m\u001b[0;34m\u001b[0m\u001b[0;34m\u001b[0m\u001b[0m\n\u001b[0;32m----> 4\u001b[0;31m \u001b[0;32mwith\u001b[0m \u001b[0mopen\u001b[0m\u001b[0;34m(\u001b[0m\u001b[0;34m'interface-data.json'\u001b[0m\u001b[0;34m)\u001b[0m \u001b[0;32mas\u001b[0m \u001b[0mfile\u001b[0m\u001b[0;34m:\u001b[0m\u001b[0;34m\u001b[0m\u001b[0;34m\u001b[0m\u001b[0m\n\u001b[0m\u001b[1;32m      5\u001b[0m     \u001b[0mjson_data\u001b[0m \u001b[0;34m=\u001b[0m \u001b[0mjson\u001b[0m\u001b[0;34m.\u001b[0m\u001b[0mload\u001b[0m\u001b[0;34m(\u001b[0m\u001b[0mfile\u001b[0m\u001b[0;34m)\u001b[0m\u001b[0;34m\u001b[0m\u001b[0;34m\u001b[0m\u001b[0m\n\u001b[1;32m      6\u001b[0m \u001b[0;34m\u001b[0m\u001b[0m\n",
            "\u001b[0;31mFileNotFoundError\u001b[0m: [Errno 2] No such file or directory: 'interface-data.json'"
          ]
        }
      ],
      "source": [
        "import json\n",
        "\n",
        "# Load the JSON data\n",
        "with open('interface-data.json') as file:\n",
        "    json_data = json.load(file)\n",
        "\n",
        "# Filter interfaces with `dn` starting with `topology/pod-1/node-103`\n",
        "filtered_interfaces = {\n",
        "    \"imdata\": [\n",
        "        interface for interface in json_data[\"imdata\"]\n",
        "        if interface[\"l1PhysIf\"][\"attributes\"][\"dn\"].startswith(\"topology/pod-1/node-103\")\n",
        "    ]\n",
        "}\n",
        "\n",
        "# Save filtered data to a JSON file with pretty formatting\n",
        "with open('interface-103.json', 'w') as outfile:\n",
        "    json.dump(filtered_interfaces, outfile, indent=4)\n"
      ]
    },
    {
      "cell_type": "markdown",
      "metadata": {
        "id": "DghOyh_DobEC"
      },
      "source": [
        "### Task 3\n",
        "You are given a JSON file `task3_input.json`. Now perform the following operations on the JSON file:\n",
        "\n",
        "1. Read the JSON file `task3_input.json` and convert it to a dictory.\n",
        "1. Pretty print the JSON file.\n",
        "1. Change the value of `Parameters.InstanceType.Default` from `t2.micro` to `c3.large`.\n",
        "1. Save the modified values as a new JSON file `task3_output1.json`.\n",
        "1. Save the modified values as a new YAML file `task3_output2.yaml`."
      ]
    },
    {
      "cell_type": "code",
      "execution_count": null,
      "metadata": {
        "tags": [],
        "id": "WfCM1xrxobEC"
      },
      "outputs": [],
      "source": [
        "import json\n",
        "import yaml\n",
        "\n",
        "# Load the JSON data\n",
        "with open('task3_input.json') as file:\n",
        "    task3_data = json.load(file)\n",
        "\n",
        "# Modify the value of Parameters.InstanceType.Default\n",
        "task3_data[\"Parameters\"][\"InstanceType\"][\"Default\"] = \"c3.large\"\n",
        "\n",
        "# Save modified data to a new JSON file\n",
        "with open('task3_output1.json', 'w') as json_file:\n",
        "    json.dump(task3_data, json_file, indent=4)\n",
        "\n",
        "# Save modified data to a new YAML file\n",
        "with open('task3_output2.yaml', 'w') as yaml_file:\n",
        "    yaml.dump(task3_data, yaml_file, default_flow_style=False, sort_keys=False)\n"
      ]
    },
    {
      "cell_type": "markdown",
      "metadata": {
        "id": "2bYVsX6ZobEC"
      },
      "source": [
        "## LAB 1 Grading\n",
        "\n",
        "A TA will check your outputs for the 3 tasks above in this Notebook file with the following requirements:\n",
        "- Task 1: Parsed output with the table described.\n",
        "- Tasks 2: `interface-103.json` with the pretty setting.\n",
        "- Tasks 3: `task3_output1.json` and `task3_output2.yaml` with the changed value."
      ]
    }
  ],
  "metadata": {
    "kernelspec": {
      "display_name": "Python 3",
      "language": "python",
      "name": "python3"
    },
    "language_info": {
      "codemirror_mode": {
        "name": "ipython",
        "version": 3
      },
      "file_extension": ".py",
      "mimetype": "text/x-python",
      "name": "python",
      "nbconvert_exporter": "python",
      "pygments_lexer": "ipython3",
      "version": "3.9.6"
    },
    "colab": {
      "provenance": []
    }
  },
  "nbformat": 4,
  "nbformat_minor": 0
}